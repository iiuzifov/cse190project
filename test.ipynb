{
 "cells": [
  {
   "cell_type": "code",
   "execution_count": 2,
   "id": "93678af3-33cd-40a5-ab32-0733016aaa7d",
   "metadata": {},
   "outputs": [],
   "source": [
    "from music21 import converter, instrument, note, chord, stream\n",
    "from keras.layers import Embedding, Dense, Dropout, LSTM, Activation, Lambda, Input\n",
    "from scipy import signal\n",
    "import numpy as np\n",
    "import matplotlib.pyplot as plt"
   ]
  },
  {
   "cell_type": "code",
   "execution_count": 3,
   "id": "521b0842-64bc-4e90-b0af-7d6800ce209a",
   "metadata": {},
   "outputs": [],
   "source": [
    "def convolve(x,h):\n",
    "    result = signal.convolve(x,h)\n",
    "    return result"
   ]
  },
  {
   "cell_type": "code",
   "execution_count": 4,
   "id": "d7a4b06f-e431-4d25-b162-7077b052e8af",
   "metadata": {},
   "outputs": [
    {
     "data": {
      "image/png": "[encoded data removed]",
      "text/plain": [
       "<Figure size 432x288 with 1 Axes>"
      ]
     },
     "metadata": {
      "image/png": {
       "height": 277,
       "width": 385
      },
      "needs_background": "light"
     },
     "output_type": "display_data"
    }
   ],
   "source": [
    "x = [0,0,1,1,1,0]\n",
    "h = [0,1,1,1,0,0]\n",
    "g=np.arange(2*len(h)-1)\n",
    "y = convolve(x,h)\n",
    "plt.title(\"convolve\")\n",
    "plt.xlabel(\"time\")\n",
    "plt.ylabel(\"amp\")\n",
    "plt.stem(g, y)\n",
    "plt.show()"
   ]
  },
  {
   "cell_type": "code",
   "execution_count": 20,
   "id": "22828cd9-eb78-4b2c-ad80-9a984c697e41",
   "metadata": {},
   "outputs": [],
   "source": [
    "dataset_name = 'data'\n",
    "filename = 'DreamOn'\n",
    "file = \"./{}/{}.mid\".format(dataset_name, filename)\n",
    "\n",
    "original_score = converter.parse(file).chordify()"
   ]
  },
  {
   "cell_type": "code",
   "execution_count": 21,
   "id": "2a1a52c0-61bf-414d-8ce6-bec938551ade",
   "metadata": {},
   "outputs": [],
   "source": [
    "notes = []\n",
    "durations = []\n",
    "\n",
    "for element in original_score.flat:\n",
    "    if isinstance(element, chord.Chord):\n",
    "        notes.append('.'.join(n.nameWithOctave for n in element.pitches))\n",
    "        durations.append(element.duration.quarterLength)\n",
    "    \n",
    "    if isinstance(element, note.Note):\n",
    "        if element.isRest:\n",
    "            notes.append(str(element.name))\n",
    "            durations.append(element.duration.quarterLength)\n",
    "        else:\n",
    "            notes.append(str(element.nameWithOctave))\n",
    "            durations.append(element.duration.quarterLength)\n",
    "            "
   ]
  },
  {
   "cell_type": "code",
   "execution_count": 27,
   "id": "aebad2cc-f95a-4aae-9d88-38c6801d8206",
   "metadata": {},
   "outputs": [
    {
     "ename": "NameError",
     "evalue": "name 'n_notes' is not defined",
     "output_type": "error",
     "traceback": [
      "\u001b[0;31m---------------------------------------------------------------------------\u001b[0m",
      "\u001b[0;31mNameError\u001b[0m                                 Traceback (most recent call last)",
      "\u001b[0;32m/var/folders/pc/80ltk8c95wddr917xk8114540000gn/T/ipykernel_80969/3704663018.py\u001b[0m in \u001b[0;36m<module>\u001b[0;34m\u001b[0m\n\u001b[1;32m      3\u001b[0m \u001b[0;34m\u001b[0m\u001b[0m\n\u001b[1;32m      4\u001b[0m \u001b[0;34m\u001b[0m\u001b[0m\n\u001b[0;32m----> 5\u001b[0;31m \u001b[0mx1\u001b[0m \u001b[0;34m=\u001b[0m \u001b[0mEmbedding\u001b[0m\u001b[0;34m(\u001b[0m\u001b[0mn_notes\u001b[0m\u001b[0;34m,\u001b[0m \u001b[0membed_size\u001b[0m\u001b[0;34m)\u001b[0m\u001b[0;34m(\u001b[0m\u001b[0mnotes_in\u001b[0m\u001b[0;34m)\u001b[0m\u001b[0;34m\u001b[0m\u001b[0;34m\u001b[0m\u001b[0m\n\u001b[0m\u001b[1;32m      6\u001b[0m \u001b[0mx2\u001b[0m \u001b[0;34m=\u001b[0m \u001b[0mEmbedding\u001b[0m\u001b[0;34m(\u001b[0m\u001b[0mn_durations\u001b[0m\u001b[0;34m,\u001b[0m \u001b[0membed_size\u001b[0m\u001b[0;34m)\u001b[0m\u001b[0;34m(\u001b[0m\u001b[0mdurations_in\u001b[0m\u001b[0;34m)\u001b[0m\u001b[0;34m\u001b[0m\u001b[0;34m\u001b[0m\u001b[0m\n\u001b[1;32m      7\u001b[0m \u001b[0;34m\u001b[0m\u001b[0m\n",
      "\u001b[0;31mNameError\u001b[0m: name 'n_notes' is not defined"
     ]
    }
   ],
   "source": [
    "notes_in = Input(shape = (None,))\n",
    "durations_in = Input(shape = (None,))\n",
    "\n",
    "\n",
    "x1 = Embedding(n_notes, embed_size)(notes_in)\n",
    "x2 = Embedding(n_durations, embed_size)(durations_in)\n",
    "\n",
    "x = Concatenate()([x1,x2])\n",
    "\n",
    "x = LSTM(rnn_units, return_sequences = True)(x)\n",
    "x = LSTM(rnn_units, return_sequences = True)(x)\n",
    "\n",
    "e = Dense(1, activation='tanh')(x)\n",
    "e = Reshape([-1])(e)\n",
    "\n",
    "alpha = Activation('softmax')(e)\n",
    "\n",
    "c = Permute([2,1])(RepeatVector(rnn_units)(alpha))\n",
    "c = Multiply()([x,c])\n",
    "c = Lambda(lambda xin: K.sum(xin, axis=1), output_shape=(rnn_units,))(c)\n",
    "\n",
    "notes_out = Dense(n_notes, activation = 'softmax', name = 'pitch')(c)\n",
    "durations_out = Dense(n_durations, activation = 'softmax', name = 'duration')(c)\n",
    "\n",
    "model = Model([notes_in, durations_in], [notes_out, durations_out])\n",
    "\n",
    "att_model = Model([notes_in, durations_in], alpha)\n",
    "\n",
    "opti = RMSprop(lr = 0.001)\n",
    "model.compile(loss=['categorical_crossentropy', 'categorical_crossentropy'], optimizer=opti)"
   ]
  },
  {
   "cell_type": "code",
   "execution_count": null,
   "id": "01ce486a-a94a-4776-a521-72ed12171be6",
   "metadata": {},
   "outputs": [],
   "source": []
  }
 ],
 "metadata": {
  "kernelspec": {
   "display_name": "Python 3 (ipykernel)",
   "language": "python",
   "name": "python3"
  },
  "language_info": {
   "codemirror_mode": {
    "name": "ipython",
    "version": 3
   },
   "file_extension": ".py",
   "mimetype": "text/x-python",
   "name": "python",
   "nbconvert_exporter": "python",
   "pygments_lexer": "ipython3",
   "version": "3.7.4"
  }
 },
 "nbformat": 4,
 "nbformat_minor": 5
}
